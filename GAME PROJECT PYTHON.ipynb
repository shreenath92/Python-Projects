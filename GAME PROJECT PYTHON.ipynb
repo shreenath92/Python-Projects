{
 "cells": [
  {
   "cell_type": "code",
   "execution_count": 2,
   "id": "e46a7753",
   "metadata": {},
   "outputs": [],
   "source": [
    "game_list=[0,1,2]\n",
    "def display(game_list):\n",
    "    print(\"the current list\")\n",
    "    print(game_list)#  DISPLAYING THE LIST"
   ]
  },
  {
   "cell_type": "code",
   "execution_count": 3,
   "id": "e83d5ca5",
   "metadata": {},
   "outputs": [],
   "source": [
    "def position_place():\n",
    "    choice='kl'\n",
    "    while choice not in ['0','1','2']:\n",
    "        choice=input(\"enter the no between (0 to 2)\")\n",
    "        if choice not in ['0','1','2']:\n",
    "            print(\"sorry wrong input\")\n",
    "    return(int(choice))"
   ]
  },
  {
   "cell_type": "code",
   "execution_count": 4,
   "id": "d46babe6",
   "metadata": {},
   "outputs": [],
   "source": [
    "def replacement(game_list,position):\n",
    "    replacename=input(\"enter the string to be replaced\")\n",
    "    game_list[position]=replacename\n",
    "    return game_list"
   ]
  },
  {
   "cell_type": "code",
   "execution_count": 5,
   "id": "5e985f3c",
   "metadata": {},
   "outputs": [],
   "source": [
    "def gameon():\n",
    "    choice='kl'\n",
    "    while choice not in ['y','n']:\n",
    "        choice=input(\"enter the no between (y or n)\")\n",
    "        if choice not in ['y','n']:\n",
    "            print(\"sorry wrong input\")\n",
    "    if choice=='y':\n",
    "        return True\n",
    "    else:\n",
    "        return False\n",
    "        \n",
    "\n",
    "     \n",
    "    "
   ]
  },
  {
   "cell_type": "code",
   "execution_count": 6,
   "id": "d5764d8f",
   "metadata": {},
   "outputs": [
    {
     "name": "stdout",
     "output_type": "stream",
     "text": [
      "the current list\n",
      "[0, 1, 2]\n",
      "enter the no between (0 to 2)2\n",
      "enter the string to be replacedhello \n",
      "enter the no between (y or n)y\n",
      "the current list\n",
      "[0, 1, 'hello ']\n",
      "enter the no between (0 to 2)2\n",
      "enter the string to be replacedwow\n",
      "enter the no between (y or n)n\n"
     ]
    }
   ],
   "source": [
    "game=True\n",
    "game_list=[0,1,2]\n",
    "while game==True:\n",
    "    display(game_list)\n",
    "    position=position_place()\n",
    "    game_list=replacement(game_list,position)\n",
    "    game=gameon()\n",
    "    "
   ]
  },
  {
   "cell_type": "code",
   "execution_count": null,
   "id": "d5e5852e",
   "metadata": {},
   "outputs": [],
   "source": []
  }
 ],
 "metadata": {
  "kernelspec": {
   "display_name": "Python 3 (ipykernel)",
   "language": "python",
   "name": "python3"
  },
  "language_info": {
   "codemirror_mode": {
    "name": "ipython",
    "version": 3
   },
   "file_extension": ".py",
   "mimetype": "text/x-python",
   "name": "python",
   "nbconvert_exporter": "python",
   "pygments_lexer": "ipython3",
   "version": "3.9.7"
  }
 },
 "nbformat": 4,
 "nbformat_minor": 5
}
