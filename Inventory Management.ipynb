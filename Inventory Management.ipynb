{
 "cells": [
  {
   "cell_type": "code",
   "execution_count": 1,
   "metadata": {},
   "outputs": [
    {
     "data": {
      "text/plain": [
       "_io.TextIOWrapper"
      ]
     },
     "execution_count": 1,
     "metadata": {},
     "output_type": "execute_result"
    }
   ],
   "source": [
    "d=open(\"Inventory Management.txt\",\"r\")\n",
    "type(d)\n"
   ]
  },
  {
   "cell_type": "code",
   "execution_count": 3,
   "metadata": {},
   "outputs": [],
   "source": [
    "c=d.read()"
   ]
  },
  {
   "cell_type": "code",
   "execution_count": 4,
   "metadata": {},
   "outputs": [],
   "source": [
    "pd=c.split(\"\\n\")"
   ]
  },
  {
   "cell_type": "code",
   "execution_count": 5,
   "metadata": {},
   "outputs": [
    {
     "name": "stdout",
     "output_type": "stream",
     "text": [
      "['1', '5 Star', '5', '100']\n",
      "['2', 'Milky Bar', '5', '100']\n",
      "['3', 'Cake', '300', '5']\n",
      "['4', 'Candy', '1', '100']\n"
     ]
    }
   ],
   "source": [
    "for i in pd:\n",
    "    \n",
    "    print(i.split(\",\"))"
   ]
  },
  {
   "cell_type": "code",
   "execution_count": 6,
   "metadata": {},
   "outputs": [
    {
     "name": "stdout",
     "output_type": "stream",
     "text": [
      "1\n",
      "2\n",
      "3\n",
      "4\n"
     ]
    }
   ],
   "source": [
    "for i in pd:\n",
    "    \n",
    "    print(i.split(\",\")[0])"
   ]
  },
  {
   "cell_type": "code",
   "execution_count": 9,
   "metadata": {},
   "outputs": [
    {
     "name": "stdout",
     "output_type": "stream",
     "text": [
      "hello\n"
     ]
    }
   ],
   "source": [
    "k=input(\"enter\")\n",
    "print(k)"
   ]
  },
  {
   "cell_type": "code",
   "execution_count": 29,
   "metadata": {},
   "outputs": [
    {
     "name": "stdout",
     "output_type": "stream",
     "text": [
      "sorry we don not have that much quantity\n",
      "would you like to purchase the quantity we have \n",
      "--------------------\n",
      "PRODUCT NAME 1\n",
      "Price 5\n",
      "billing amount 1000\n",
      "----------------\n",
      "Quantinty 100\n"
     ]
    }
   ],
   "source": [
    "product=input(\"enter the product id\")\n",
    "product_qt=input(\"enter the quantity\")\n",
    "update=[]\n",
    "\n",
    "for i in pd:\n",
    "    prod_de=i.split(\",\")\n",
    "    if(prod_de[0]==product):\n",
    "        if(int(product_qt)<=int(prod_de[3])):\n",
    "\n",
    "\n",
    "         print(\"--------------------\")\n",
    "         print('PRODUCT NAME',prod_de[0])\n",
    "         print(\"Price\",prod_de[2])\n",
    "         print(\"billing amount\",int(product_qt)* int(prod_de[2]))\n",
    "         print(\"----------------\")\n",
    "         print(\"Quantinty\",product_qt)\n",
    "         prod_de[3]=str(int(prod_de[3]) - int(product_qt))\n",
    "        else:\n",
    "         print(\"sorry we don not have that much quantity\")\n",
    "         print(\"would you like to purchase the quantity we have \")\n",
    "         th=input(\"enter yes or no\")\n",
    "         if th==\"yes\":\n",
    "            print(\"--------------------\")\n",
    "            print('PRODUCT NAME',prod_de[0])\n",
    "            print(\"Price\",prod_de[2])\n",
    "            print(\"billing amount\",int(product_qt)* int(prod_de[2]))\n",
    "            print(\"----------------\")\n",
    "            print(\"Quantinty\",prod_de[3])\n",
    "            prod_de[3]='0'\n",
    "\n",
    "\n",
    "\n",
    "        \n",
    "    update.append(prod_de)\n",
    "    \n",
    "    "
   ]
  },
  {
   "cell_type": "code",
   "execution_count": 28,
   "metadata": {},
   "outputs": [
    {
     "name": "stdout",
     "output_type": "stream",
     "text": [
      "['1', '5 Star', '5', '100']\n",
      "['2', 'Milky Bar', '5', '100']\n",
      "['3', 'Cake', '300', '5']\n",
      "['4', 'Candy', '1', '100']\n"
     ]
    }
   ],
   "source": [
    "for  i in update :\n",
    "    print(i)"
   ]
  },
  {
   "cell_type": "code",
   "execution_count": null,
   "metadata": {},
   "outputs": [],
   "source": []
  }
 ],
 "metadata": {
  "kernelspec": {
   "display_name": "base",
   "language": "python",
   "name": "python3"
  },
  "language_info": {
   "codemirror_mode": {
    "name": "ipython",
    "version": 3
   },
   "file_extension": ".py",
   "mimetype": "text/x-python",
   "name": "python",
   "nbconvert_exporter": "python",
   "pygments_lexer": "ipython3",
   "version": "3.11.5"
  }
 },
 "nbformat": 4,
 "nbformat_minor": 2
}
